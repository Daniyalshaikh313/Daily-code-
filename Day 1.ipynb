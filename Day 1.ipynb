{
 "cells": [
  {
   "cell_type": "code",
   "execution_count": 1,
   "id": "c3f79ac1-570b-4d78-b6e0-1d529fb1b79c",
   "metadata": {},
   "outputs": [
    {
     "name": "stdout",
     "output_type": "stream",
     "text": [
      "d\n"
     ]
    }
   ],
   "source": [
    "a= \"d\"\n",
    "print(a)\n"
   ]
  },
  {
   "cell_type": "code",
   "execution_count": 6,
   "id": "df7c10d2-5909-4c6b-9e11-aadebbe6111f",
   "metadata": {},
   "outputs": [
    {
     "name": "stdout",
     "output_type": "stream",
     "text": [
      "d\n"
     ]
    }
   ],
   "source": [
    "\n"
   ]
  },
  {
   "cell_type": "markdown",
   "id": "8ea29315-6978-433a-a147-9643ed4456e5",
   "metadata": {},
   "source": [
    "# Day one python IDE \n",
    "## Heading 1\n",
    "### Heading 3\n",
    "#### Heading 6\n",
    "##### Heading 5\n",
    "\n",
    "Markdown\n",
    "\n"
   ]
  },
  {
   "cell_type": "markdown",
   "id": "8b52a29f-f095-4a2d-8066-1640db706dd7",
   "metadata": {},
   "source": [
    "print(\"Daniyal\")"
   ]
  },
  {
   "cell_type": "code",
   "execution_count": 29,
   "id": "1b8c6bf9-5c70-47f4-81e2-acfcf4a87f79",
   "metadata": {},
   "outputs": [
    {
     "name": "stdout",
     "output_type": "stream",
     "text": [
      "(2\n"
     ]
    }
   ],
   "source": [
    "# f string run python code \n",
    "print(f\"{1 + 1}\")"
   ]
  },
  {
   "cell_type": "code",
   "execution_count": 27,
   "id": "3edb79c4-a69f-4303-a807-9eb699e0cd38",
   "metadata": {},
   "outputs": [
    {
     "name": "stdout",
     "output_type": "stream",
     "text": [
      "my name is sheikh and my batch :1\n"
     ]
    }
   ],
   "source": [
    "D =\"sheikh\"\n",
    "B = 1\n",
    "print(f\"my name is {D} and my batch :{B}\")"
   ]
  },
  {
   "cell_type": "markdown",
   "id": "ff29e2fb-0a04-4b96-9408-de314c9b7ea8",
   "metadata": {},
   "source": [
    "# Application of loops and condtional Statement "
   ]
  },
  {
   "cell_type": "code",
   "execution_count": null,
   "id": "0eea45dd-7c69-4cdd-9031-4b2c2f1ebd5e",
   "metadata": {},
   "outputs": [],
   "source": [
    "# user input \n",
    "# -Using a method called input() we can take input from the user "
   ]
  },
  {
   "cell_type": "code",
   "execution_count": 34,
   "id": "03e1ecad-d7cf-4222-a6f4-c81469a64776",
   "metadata": {},
   "outputs": [
    {
     "name": "stdin",
     "output_type": "stream",
     "text": [
      "Enter the number  5\n"
     ]
    },
    {
     "name": "stdout",
     "output_type": "stream",
     "text": [
      "The number you enter was : 5\n"
     ]
    }
   ],
   "source": [
    "Number = input(\"Enter the number \")\n",
    "print(f'The number you enter was : {Number}')"
   ]
  },
  {
   "cell_type": "code",
   "execution_count": 38,
   "id": "bdd11113-6a71-4773-8c41-a16019e7ae97",
   "metadata": {},
   "outputs": [
    {
     "name": "stdout",
     "output_type": "stream",
     "text": [
      "Example 1 : check the if number are even or odd given input range \n"
     ]
    },
    {
     "name": "stdin",
     "output_type": "stream",
     "text": [
      "enter start range:  1\n",
      "end range:  10\n"
     ]
    },
    {
     "name": "stdout",
     "output_type": "stream",
     "text": [
      "1 is Odd\n",
      "2 is Even\n",
      "3 is Odd\n",
      "4 is Even\n",
      "5 is Odd\n",
      "6 is Even\n",
      "7 is Odd\n",
      "8 is Even\n",
      "9 is Odd\n",
      "10 is Even\n"
     ]
    }
   ],
   "source": [
    "print(f\"Example 1 : check the if number are even or odd given input range \")\n",
    "start = int(input(\"enter start range: \")) #typecasting\n",
    "end = int(input(\"end range: \"))\n",
    "for num in range(start,end +1):\n",
    "    if num % 2 == 0:\n",
    "        print(f'{num} is Even')\n",
    "    else:\n",
    "        print(f'{num} is Odd')\n",
    "    "
   ]
  },
  {
   "cell_type": "code",
   "execution_count": 42,
   "id": "be7e427d-4eba-4952-aab8-a74434e8caf7",
   "metadata": {},
   "outputs": [
    {
     "name": "stdout",
     "output_type": "stream",
     "text": [
      "Example 2 : Check number vowel in word \n"
     ]
    },
    {
     "name": "stdin",
     "output_type": "stream",
     "text": [
      "Enter the word  I am learning python today\n"
     ]
    },
    {
     "name": "stdout",
     "output_type": "stream",
     "text": [
      "The number of vowel 8\n"
     ]
    }
   ],
   "source": [
    "print(f'Example 2 : Check number vowel in word ')\n",
    "word = input(\"Enter the word \").lower() # adding all in lower\n",
    "vowel = \"aeiou\"\n",
    "count = 0 \n",
    "for char in word:\n",
    "    if char in vowel:\n",
    "        count +=1\n",
    "print(f'The number of vowel {count}')        "
   ]
  },
  {
   "cell_type": "code",
   "execution_count": 46,
   "id": "09b42e49-abaf-4914-ae2e-624a9647789b",
   "metadata": {},
   "outputs": [
    {
     "name": "stdout",
     "output_type": "stream",
     "text": [
      "Example 3: Simple Login system\n"
     ]
    },
    {
     "name": "stdin",
     "output_type": "stream",
     "text": [
      "Enter the username :  admin\n",
      "Enter the password:  password123\n"
     ]
    },
    {
     "name": "stdout",
     "output_type": "stream",
     "text": [
      "Invalid Credential. Attempt left: 2\n"
     ]
    },
    {
     "name": "stdin",
     "output_type": "stream",
     "text": [
      "Enter the username :  admin \n",
      "Enter the password:  pass\n"
     ]
    },
    {
     "name": "stdout",
     "output_type": "stream",
     "text": [
      "Invalid Credential. Attempt left: 1\n"
     ]
    },
    {
     "name": "stdin",
     "output_type": "stream",
     "text": [
      "Enter the username :  pas\n",
      "Enter the password:  pass\n"
     ]
    },
    {
     "name": "stdout",
     "output_type": "stream",
     "text": [
      "Invalid Credential. Attempt left: 0\n",
      "To many attempt failed\n"
     ]
    }
   ],
   "source": [
    "print(f'Example 3: Simple Login system')\n",
    "correct_user = \"admin\"\n",
    "correct_pass = \"password\"\n",
    "login_succ = False\n",
    "for attempt in range(3):\n",
    "    user =input(\"Enter the username : \")\n",
    "    password = input(\"Enter the password: \")\n",
    "    if user == correct_user and password == correct_pass:\n",
    "        print(\"login succ\")\n",
    "        login_succ =True\n",
    "        break\n",
    "    else:\n",
    "        print(f\"Invalid Credential. Attempt left: {2 - attempt}\")\n",
    "if not login_succ:\n",
    "    print(\"To many attempt failed\")"
   ]
  },
  {
   "cell_type": "code",
   "execution_count": 54,
   "id": "66d27861-090b-46ca-affd-57f257d9b244",
   "metadata": {},
   "outputs": [
    {
     "name": "stdout",
     "output_type": "stream",
     "text": [
      "Example 04 : Multiplicational Table \n"
     ]
    },
    {
     "name": "stdin",
     "output_type": "stream",
     "text": [
      "Enter a Number to Generate its multiplication Table  4\n"
     ]
    },
    {
     "name": "stdout",
     "output_type": "stream",
     "text": [
      "4 x 1 = 4\n",
      "4 x 2 = 8\n",
      "4 x 3 = 12\n",
      "4 x 4 = 16\n",
      "4 x 5 = 20\n",
      "4 x 6 = 24\n",
      "4 x 7 = 28\n",
      "4 x 8 = 32\n",
      "4 x 9 = 36\n",
      "4 x 10 = 40\n"
     ]
    }
   ],
   "source": [
    "print(f'Example 04 : Multiplicational Table ')\n",
    "number = int(input(\"Enter a Number to Generate its multiplication Table \"))\n",
    "for i in range(1, 11):\n",
    "             print(f'{number} x {i} = {number * i }')\n",
    "  "
   ]
  },
  {
   "cell_type": "markdown",
   "id": "5dca2049-b2d7-412f-b71b-8f705f4b955a",
   "metadata": {},
   "source": [
    "# Data structure\n"
   ]
  },
  {
   "cell_type": "code",
   "execution_count": 68,
   "id": "40800b0b-95c0-49a5-855d-5b089400d5f5",
   "metadata": {},
   "outputs": [
    {
     "ename": "SyntaxError",
     "evalue": "unmatched ')' (3055681906.py, line 2)",
     "output_type": "error",
     "traceback": [
      "\u001b[1;36m  Cell \u001b[1;32mIn[68], line 2\u001b[1;36m\u001b[0m\n\u001b[1;33m    number = map(int, input(\"Enter a list of number separated by space: \").split()))\u001b[0m\n\u001b[1;37m                                                                                   ^\u001b[0m\n\u001b[1;31mSyntaxError\u001b[0m\u001b[1;31m:\u001b[0m unmatched ')'\n"
     ]
    }
   ],
   "source": [
    "print(\"Example 1 : Using a list to store and process no from user input \")\n",
    "number = map(int, input(\"Enter a list of number separated by space: \").split()))\n",
    "print(number)\n"
   ]
  },
  {
   "cell_type": "code",
   "execution_count": null,
   "id": "3fb79aa3-e6ee-49bf-9ef2-9713d5f90a99",
   "metadata": {},
   "outputs": [],
   "source": []
  }
 ],
 "metadata": {
  "kernelspec": {
   "display_name": "Python 3 (ipykernel)",
   "language": "python",
   "name": "python3"
  },
  "language_info": {
   "codemirror_mode": {
    "name": "ipython",
    "version": 3
   },
   "file_extension": ".py",
   "mimetype": "text/x-python",
   "name": "python",
   "nbconvert_exporter": "python",
   "pygments_lexer": "ipython3",
   "version": "3.12.7"
  }
 },
 "nbformat": 4,
 "nbformat_minor": 5
}
